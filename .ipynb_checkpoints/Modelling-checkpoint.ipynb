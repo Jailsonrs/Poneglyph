{
 "cells": [
  {
   "cell_type": "markdown",
   "id": "03c51be9-9961-4b72-af5c-5135fca95a98",
   "metadata": {},
   "source": [
    "### Outline\n",
    "------------------------\n",
    "\n",
    "* Introdução\n",
    "\n",
    "* Metodologia\n",
    "   * Descrição dos procedimentos\n",
    "--------------------------------------------------------\n",
    "\n",
    "* Aplicação\n",
    "  * Análise Descritiva e Limpeza\n",
    "  * Treinamento dos modelos \n",
    "    * Redução de dimensionalidade\n",
    "        * PCA \n",
    "        * UMAP\n",
    "    * Clusterização\n",
    "        * KNN \n",
    "        * DBSCAN\n",
    "    * Classificação \n",
    "        * glmnet\n",
    "        * Random Forest\n",
    "------------------------------------------------------------------------\n",
    "* Resultados e conclusões\n"
   ]
  },
  {
   "cell_type": "markdown",
   "id": "ea843eae-ca24-4c19-86fa-02ea5ad676b4",
   "metadata": {},
   "source": [
    "# Introdução\n"
   ]
  },
  {
   "cell_type": "markdown",
   "id": "11c697af-d5f1-4cf0-926d-407a5dc8664d",
   "metadata": {},
   "source": [
    "Uma grande multinacional varejista do ramo de supermercados deseja ingressar no mercado brasileiro. Você é o responsável pela análise que servirá de base para a estratégia (tomada de decisão) de entrada dessa empresa no Brasil. \n",
    "Elabore uma apresentação para os investidores desta empresa buscando realizar as seguintes tarefas:\n",
    "\n",
    "  *  **Realize uma classificação dos municípios brasileiros com base nas informações disponíveis e faça uma caracterização dos municípios em grupos.**\n",
    " \n",
    " *  **Elabore uma forma de classificar um novo município entre os grupos já criados na etapa anterior**\n",
    " \n",
    " * **Responda em sua apresentação quais grupos de municípios deveriam ser a porta de entrada para empresa no país e porque.**"
   ]
  },
  {
   "cell_type": "markdown",
   "id": "4a8b72fc-8799-404f-bf3d-938366b5ad91",
   "metadata": {},
   "source": [
    "# 1 - Aplicação"
   ]
  },
  {
   "cell_type": "markdown",
   "id": "023a45d4-4fe5-467c-8bd2-7dd6537296e1",
   "metadata": {},
   "source": [
    "## 1.1 - Análise descritiva e limpeza dos dados"
   ]
  },
  {
   "cell_type": "code",
   "execution_count": null,
   "id": "0bc85396-a05e-462a-bde2-3757b6f0166d",
   "metadata": {},
   "outputs": [],
   "source": [
    "import os\n",
    "import pandas as pd\n",
    "import numpy as np\n",
    "import sklearn as sk\n",
    "from sklearn.cluster import KMeans\n",
    "from sklearn.preprocessing import StandardScaler\n",
    "import matplotlib\n",
    "import shap\n",
    "import umap\n",
    "import scipy\n",
    "from sklearn.decomposition import PCA\n",
    "from umap import UMAP\n",
    "import matplotlib.pyplot as plt\n",
    "os.getcwd()"
   ]
  },
  {
   "cell_type": "code",
   "execution_count": 2,
   "id": "45a8ed8f-0128-48a8-99ed-a8fbd0233245",
   "metadata": {},
   "outputs": [
    {
     "ename": "NameError",
     "evalue": "name 'pd' is not defined",
     "output_type": "error",
     "traceback": [
      "\u001b[0;31m---------------------------------------------------------------------------\u001b[0m",
      "\u001b[0;31mNameError\u001b[0m                                 Traceback (most recent call last)",
      "Input \u001b[0;32mIn [2]\u001b[0m, in \u001b[0;36m<cell line: 3>\u001b[0;34m()\u001b[0m\n\u001b[1;32m      1\u001b[0m \u001b[38;5;66;03m## leitura do dataset\u001b[39;00m\n\u001b[1;32m      2\u001b[0m diretorio \u001b[38;5;241m=\u001b[39m \u001b[38;5;124m\"\u001b[39m\u001b[38;5;124m/projects/data/raw/dados_municipais.csv\u001b[39m\u001b[38;5;124m\"\u001b[39m\n\u001b[0;32m----> 3\u001b[0m dados_municipais \u001b[38;5;241m=\u001b[39m \u001b[43mpd\u001b[49m\u001b[38;5;241m.\u001b[39mread_csv(diretorio, sep \u001b[38;5;241m=\u001b[39m \u001b[38;5;124m\"\u001b[39m\u001b[38;5;124m,\u001b[39m\u001b[38;5;124m\"\u001b[39m)\n",
      "\u001b[0;31mNameError\u001b[0m: name 'pd' is not defined"
     ]
    }
   ],
   "source": [
    "## leitura do dataset\n",
    "diretorio = \"/projects/data/raw/dados_municipais.csv\"\n",
    "dados_municipais = pd.read_csv(diretorio, sep = \",\")"
   ]
  },
  {
   "cell_type": "code",
   "execution_count": 57,
   "id": "8ccd8ebd-4ad9-4e41-9e1d-529a95930183",
   "metadata": {},
   "outputs": [
    {
     "name": "stdout",
     "output_type": "stream",
     "text": [
      "(5360, 26)\n"
     ]
    },
    {
     "data": {
      "text/html": [
       "<div>\n",
       "<style scoped>\n",
       "    .dataframe tbody tr th:only-of-type {\n",
       "        vertical-align: middle;\n",
       "    }\n",
       "\n",
       "    .dataframe tbody tr th {\n",
       "        vertical-align: top;\n",
       "    }\n",
       "\n",
       "    .dataframe thead th {\n",
       "        text-align: right;\n",
       "    }\n",
       "</style>\n",
       "<table border=\"1\" class=\"dataframe\">\n",
       "  <thead>\n",
       "    <tr style=\"text-align: right;\">\n",
       "      <th></th>\n",
       "      <th>count</th>\n",
       "      <th>mean</th>\n",
       "      <th>std</th>\n",
       "      <th>min</th>\n",
       "      <th>25%</th>\n",
       "      <th>50%</th>\n",
       "      <th>75%</th>\n",
       "      <th>max</th>\n",
       "    </tr>\n",
       "  </thead>\n",
       "  <tbody>\n",
       "    <tr>\n",
       "      <th>Código</th>\n",
       "      <td>5360.0</td>\n",
       "      <td>323877.352425</td>\n",
       "      <td>98050.905443</td>\n",
       "      <td>110001.000</td>\n",
       "      <td>251057.500000</td>\n",
       "      <td>314305.000000</td>\n",
       "      <td>411573.500000</td>\n",
       "      <td>5.300100e+05</td>\n",
       "    </tr>\n",
       "    <tr>\n",
       "      <th>Área_km_</th>\n",
       "      <td>5360.0</td>\n",
       "      <td>1562.394907</td>\n",
       "      <td>5794.068765</td>\n",
       "      <td>2.900</td>\n",
       "      <td>206.475000</td>\n",
       "      <td>419.700000</td>\n",
       "      <td>1042.925000</td>\n",
       "      <td>1.614459e+05</td>\n",
       "    </tr>\n",
       "    <tr>\n",
       "      <th>Densidade_demográfica_2000</th>\n",
       "      <td>5360.0</td>\n",
       "      <td>95.634907</td>\n",
       "      <td>526.603116</td>\n",
       "      <td>0.100</td>\n",
       "      <td>11.300000</td>\n",
       "      <td>23.600000</td>\n",
       "      <td>47.625000</td>\n",
       "      <td>1.288140e+04</td>\n",
       "    </tr>\n",
       "    <tr>\n",
       "      <th>Distância_à_capital_km_</th>\n",
       "      <td>5360.0</td>\n",
       "      <td>253.265511</td>\n",
       "      <td>163.387592</td>\n",
       "      <td>0.000</td>\n",
       "      <td>121.814246</td>\n",
       "      <td>228.019533</td>\n",
       "      <td>357.817869</td>\n",
       "      <td>1.474315e+03</td>\n",
       "    </tr>\n",
       "    <tr>\n",
       "      <th>Esperança_de_vida_ao_nascer_2000</th>\n",
       "      <td>5360.0</td>\n",
       "      <td>67.732116</td>\n",
       "      <td>4.854705</td>\n",
       "      <td>54.350</td>\n",
       "      <td>64.510000</td>\n",
       "      <td>68.230000</td>\n",
       "      <td>71.410000</td>\n",
       "      <td>7.818000e+01</td>\n",
       "    </tr>\n",
       "    <tr>\n",
       "      <th>Mortalidade_até_um_ano_de_idade_2000</th>\n",
       "      <td>5360.0</td>\n",
       "      <td>34.126541</td>\n",
       "      <td>18.460107</td>\n",
       "      <td>5.380</td>\n",
       "      <td>18.730000</td>\n",
       "      <td>29.510000</td>\n",
       "      <td>46.220000</td>\n",
       "      <td>1.096700e+02</td>\n",
       "    </tr>\n",
       "    <tr>\n",
       "      <th>Taxa_de_fecundidade_total_2000</th>\n",
       "      <td>5360.0</td>\n",
       "      <td>2.867433</td>\n",
       "      <td>0.746162</td>\n",
       "      <td>1.560</td>\n",
       "      <td>2.330000</td>\n",
       "      <td>2.670000</td>\n",
       "      <td>3.230000</td>\n",
       "      <td>7.790000e+00</td>\n",
       "    </tr>\n",
       "    <tr>\n",
       "      <th>Percentual_de_pessoas_de_25_anos_ou_mais_analfabetas_2000</th>\n",
       "      <td>5360.0</td>\n",
       "      <td>26.721034</td>\n",
       "      <td>15.150629</td>\n",
       "      <td>2.020</td>\n",
       "      <td>14.030000</td>\n",
       "      <td>22.675000</td>\n",
       "      <td>39.852500</td>\n",
       "      <td>7.026000e+01</td>\n",
       "    </tr>\n",
       "    <tr>\n",
       "      <th>Renda_per_Capita_2000</th>\n",
       "      <td>5360.0</td>\n",
       "      <td>170.331888</td>\n",
       "      <td>95.950230</td>\n",
       "      <td>28.380</td>\n",
       "      <td>86.370000</td>\n",
       "      <td>158.545000</td>\n",
       "      <td>232.175000</td>\n",
       "      <td>9.546500e+02</td>\n",
       "    </tr>\n",
       "    <tr>\n",
       "      <th>Índice_de_Gini_2000</th>\n",
       "      <td>5360.0</td>\n",
       "      <td>0.561086</td>\n",
       "      <td>0.058758</td>\n",
       "      <td>0.360</td>\n",
       "      <td>0.520000</td>\n",
       "      <td>0.560000</td>\n",
       "      <td>0.600000</td>\n",
       "      <td>8.200000e-01</td>\n",
       "    </tr>\n",
       "    <tr>\n",
       "      <th>Intensidade_da_indigência_2000</th>\n",
       "      <td>5360.0</td>\n",
       "      <td>49.810407</td>\n",
       "      <td>10.532156</td>\n",
       "      <td>0.020</td>\n",
       "      <td>42.865000</td>\n",
       "      <td>49.530000</td>\n",
       "      <td>56.467500</td>\n",
       "      <td>8.835000e+01</td>\n",
       "    </tr>\n",
       "    <tr>\n",
       "      <th>Intensidade_da_pobreza_2000</th>\n",
       "      <td>5360.0</td>\n",
       "      <td>47.138438</td>\n",
       "      <td>10.739301</td>\n",
       "      <td>15.760</td>\n",
       "      <td>38.217500</td>\n",
       "      <td>46.320000</td>\n",
       "      <td>55.460000</td>\n",
       "      <td>8.303000e+01</td>\n",
       "    </tr>\n",
       "    <tr>\n",
       "      <th>Índice_de_Desenvolvimento_Humano_Municipal_2000</th>\n",
       "      <td>5360.0</td>\n",
       "      <td>0.698982</td>\n",
       "      <td>0.083397</td>\n",
       "      <td>0.467</td>\n",
       "      <td>0.630000</td>\n",
       "      <td>0.713000</td>\n",
       "      <td>0.768000</td>\n",
       "      <td>9.190000e-01</td>\n",
       "    </tr>\n",
       "    <tr>\n",
       "      <th>Taxa_bruta_de_freqüência_à_escola_2000</th>\n",
       "      <td>5360.0</td>\n",
       "      <td>77.947465</td>\n",
       "      <td>6.713779</td>\n",
       "      <td>44.500</td>\n",
       "      <td>73.970000</td>\n",
       "      <td>78.360000</td>\n",
       "      <td>82.372500</td>\n",
       "      <td>1.076900e+02</td>\n",
       "    </tr>\n",
       "    <tr>\n",
       "      <th>Taxa_de_alfabetização_2000</th>\n",
       "      <td>5360.0</td>\n",
       "      <td>78.184032</td>\n",
       "      <td>12.451020</td>\n",
       "      <td>39.340</td>\n",
       "      <td>67.915000</td>\n",
       "      <td>81.980000</td>\n",
       "      <td>88.270000</td>\n",
       "      <td>9.909000e+01</td>\n",
       "    </tr>\n",
       "    <tr>\n",
       "      <th>Média_de_anos_de_estudo_das_pessoas_de_25_anos_ou_mais_de_idade_2000</th>\n",
       "      <td>5360.0</td>\n",
       "      <td>4.035073</td>\n",
       "      <td>1.284557</td>\n",
       "      <td>0.810</td>\n",
       "      <td>3.010000</td>\n",
       "      <td>4.060000</td>\n",
       "      <td>4.910000</td>\n",
       "      <td>9.650000e+00</td>\n",
       "    </tr>\n",
       "    <tr>\n",
       "      <th>População_de_25_anos_ou_mais_de_idade_1991</th>\n",
       "      <td>5360.0</td>\n",
       "      <td>12248.471455</td>\n",
       "      <td>90383.173834</td>\n",
       "      <td>239.000</td>\n",
       "      <td>2121.750000</td>\n",
       "      <td>4096.000000</td>\n",
       "      <td>8075.500000</td>\n",
       "      <td>5.106165e+06</td>\n",
       "    </tr>\n",
       "    <tr>\n",
       "      <th>População_de_25_anos_ou_mais_de_idade_2000</th>\n",
       "      <td>5360.0</td>\n",
       "      <td>15548.364179</td>\n",
       "      <td>105211.600287</td>\n",
       "      <td>422.000</td>\n",
       "      <td>2512.000000</td>\n",
       "      <td>4937.000000</td>\n",
       "      <td>9985.750000</td>\n",
       "      <td>5.825893e+06</td>\n",
       "    </tr>\n",
       "    <tr>\n",
       "      <th>População_de_65_anos_ou_mais_de_idade_1991</th>\n",
       "      <td>5360.0</td>\n",
       "      <td>1292.617724</td>\n",
       "      <td>9411.942538</td>\n",
       "      <td>17.000</td>\n",
       "      <td>243.000000</td>\n",
       "      <td>485.000000</td>\n",
       "      <td>985.000000</td>\n",
       "      <td>4.998800e+05</td>\n",
       "    </tr>\n",
       "    <tr>\n",
       "      <th>População_de_65_anos_ou_mais_de_idade_2000</th>\n",
       "      <td>5360.0</td>\n",
       "      <td>1809.674627</td>\n",
       "      <td>12746.033077</td>\n",
       "      <td>27.000</td>\n",
       "      <td>332.750000</td>\n",
       "      <td>652.500000</td>\n",
       "      <td>1317.250000</td>\n",
       "      <td>6.707800e+05</td>\n",
       "    </tr>\n",
       "    <tr>\n",
       "      <th>População_total_1991</th>\n",
       "      <td>5360.0</td>\n",
       "      <td>26729.375187</td>\n",
       "      <td>171142.042504</td>\n",
       "      <td>618.000</td>\n",
       "      <td>4968.000000</td>\n",
       "      <td>9781.500000</td>\n",
       "      <td>18969.250000</td>\n",
       "      <td>9.649519e+06</td>\n",
       "    </tr>\n",
       "    <tr>\n",
       "      <th>População_total_2000</th>\n",
       "      <td>5360.0</td>\n",
       "      <td>30889.386194</td>\n",
       "      <td>189079.992517</td>\n",
       "      <td>795.000</td>\n",
       "      <td>5161.250000</td>\n",
       "      <td>10431.000000</td>\n",
       "      <td>21295.500000</td>\n",
       "      <td>1.043425e+07</td>\n",
       "    </tr>\n",
       "    <tr>\n",
       "      <th>População_urbana_2000</th>\n",
       "      <td>5360.0</td>\n",
       "      <td>25096.934888</td>\n",
       "      <td>182251.733706</td>\n",
       "      <td>0.000</td>\n",
       "      <td>2417.500000</td>\n",
       "      <td>5316.000000</td>\n",
       "      <td>13125.750000</td>\n",
       "      <td>9.813187e+06</td>\n",
       "    </tr>\n",
       "    <tr>\n",
       "      <th>População_rural_2000</th>\n",
       "      <td>5360.0</td>\n",
       "      <td>5792.451306</td>\n",
       "      <td>10529.920109</td>\n",
       "      <td>0.000</td>\n",
       "      <td>1835.750000</td>\n",
       "      <td>3683.000000</td>\n",
       "      <td>7253.500000</td>\n",
       "      <td>6.210650e+05</td>\n",
       "    </tr>\n",
       "  </tbody>\n",
       "</table>\n",
       "</div>"
      ],
      "text/plain": [
       "                                                     count           mean  \\\n",
       "Código                                              5360.0  323877.352425   \n",
       "Área_km_                                            5360.0    1562.394907   \n",
       "Densidade_demográfica_2000                          5360.0      95.634907   \n",
       "Distância_à_capital_km_                             5360.0     253.265511   \n",
       "Esperança_de_vida_ao_nascer_2000                    5360.0      67.732116   \n",
       "Mortalidade_até_um_ano_de_idade_2000                5360.0      34.126541   \n",
       "Taxa_de_fecundidade_total_2000                      5360.0       2.867433   \n",
       "Percentual_de_pessoas_de_25_anos_ou_mais_analfa...  5360.0      26.721034   \n",
       "Renda_per_Capita_2000                               5360.0     170.331888   \n",
       "Índice_de_Gini_2000                                 5360.0       0.561086   \n",
       "Intensidade_da_indigência_2000                      5360.0      49.810407   \n",
       "Intensidade_da_pobreza_2000                         5360.0      47.138438   \n",
       "Índice_de_Desenvolvimento_Humano_Municipal_2000     5360.0       0.698982   \n",
       "Taxa_bruta_de_freqüência_à_escola_2000              5360.0      77.947465   \n",
       "Taxa_de_alfabetização_2000                          5360.0      78.184032   \n",
       "Média_de_anos_de_estudo_das_pessoas_de_25_anos_...  5360.0       4.035073   \n",
       "População_de_25_anos_ou_mais_de_idade_1991          5360.0   12248.471455   \n",
       "População_de_25_anos_ou_mais_de_idade_2000          5360.0   15548.364179   \n",
       "População_de_65_anos_ou_mais_de_idade_1991          5360.0    1292.617724   \n",
       "População_de_65_anos_ou_mais_de_idade_2000          5360.0    1809.674627   \n",
       "População_total_1991                                5360.0   26729.375187   \n",
       "População_total_2000                                5360.0   30889.386194   \n",
       "População_urbana_2000                               5360.0   25096.934888   \n",
       "População_rural_2000                                5360.0    5792.451306   \n",
       "\n",
       "                                                              std         min  \\\n",
       "Código                                               98050.905443  110001.000   \n",
       "Área_km_                                              5794.068765       2.900   \n",
       "Densidade_demográfica_2000                             526.603116       0.100   \n",
       "Distância_à_capital_km_                                163.387592       0.000   \n",
       "Esperança_de_vida_ao_nascer_2000                         4.854705      54.350   \n",
       "Mortalidade_até_um_ano_de_idade_2000                    18.460107       5.380   \n",
       "Taxa_de_fecundidade_total_2000                           0.746162       1.560   \n",
       "Percentual_de_pessoas_de_25_anos_ou_mais_analfa...      15.150629       2.020   \n",
       "Renda_per_Capita_2000                                   95.950230      28.380   \n",
       "Índice_de_Gini_2000                                      0.058758       0.360   \n",
       "Intensidade_da_indigência_2000                          10.532156       0.020   \n",
       "Intensidade_da_pobreza_2000                             10.739301      15.760   \n",
       "Índice_de_Desenvolvimento_Humano_Municipal_2000          0.083397       0.467   \n",
       "Taxa_bruta_de_freqüência_à_escola_2000                   6.713779      44.500   \n",
       "Taxa_de_alfabetização_2000                              12.451020      39.340   \n",
       "Média_de_anos_de_estudo_das_pessoas_de_25_anos_...       1.284557       0.810   \n",
       "População_de_25_anos_ou_mais_de_idade_1991           90383.173834     239.000   \n",
       "População_de_25_anos_ou_mais_de_idade_2000          105211.600287     422.000   \n",
       "População_de_65_anos_ou_mais_de_idade_1991            9411.942538      17.000   \n",
       "População_de_65_anos_ou_mais_de_idade_2000           12746.033077      27.000   \n",
       "População_total_1991                                171142.042504     618.000   \n",
       "População_total_2000                                189079.992517     795.000   \n",
       "População_urbana_2000                               182251.733706       0.000   \n",
       "População_rural_2000                                 10529.920109       0.000   \n",
       "\n",
       "                                                              25%  \\\n",
       "Código                                              251057.500000   \n",
       "Área_km_                                               206.475000   \n",
       "Densidade_demográfica_2000                              11.300000   \n",
       "Distância_à_capital_km_                                121.814246   \n",
       "Esperança_de_vida_ao_nascer_2000                        64.510000   \n",
       "Mortalidade_até_um_ano_de_idade_2000                    18.730000   \n",
       "Taxa_de_fecundidade_total_2000                           2.330000   \n",
       "Percentual_de_pessoas_de_25_anos_ou_mais_analfa...      14.030000   \n",
       "Renda_per_Capita_2000                                   86.370000   \n",
       "Índice_de_Gini_2000                                      0.520000   \n",
       "Intensidade_da_indigência_2000                          42.865000   \n",
       "Intensidade_da_pobreza_2000                             38.217500   \n",
       "Índice_de_Desenvolvimento_Humano_Municipal_2000          0.630000   \n",
       "Taxa_bruta_de_freqüência_à_escola_2000                  73.970000   \n",
       "Taxa_de_alfabetização_2000                              67.915000   \n",
       "Média_de_anos_de_estudo_das_pessoas_de_25_anos_...       3.010000   \n",
       "População_de_25_anos_ou_mais_de_idade_1991            2121.750000   \n",
       "População_de_25_anos_ou_mais_de_idade_2000            2512.000000   \n",
       "População_de_65_anos_ou_mais_de_idade_1991             243.000000   \n",
       "População_de_65_anos_ou_mais_de_idade_2000             332.750000   \n",
       "População_total_1991                                  4968.000000   \n",
       "População_total_2000                                  5161.250000   \n",
       "População_urbana_2000                                 2417.500000   \n",
       "População_rural_2000                                  1835.750000   \n",
       "\n",
       "                                                              50%  \\\n",
       "Código                                              314305.000000   \n",
       "Área_km_                                               419.700000   \n",
       "Densidade_demográfica_2000                              23.600000   \n",
       "Distância_à_capital_km_                                228.019533   \n",
       "Esperança_de_vida_ao_nascer_2000                        68.230000   \n",
       "Mortalidade_até_um_ano_de_idade_2000                    29.510000   \n",
       "Taxa_de_fecundidade_total_2000                           2.670000   \n",
       "Percentual_de_pessoas_de_25_anos_ou_mais_analfa...      22.675000   \n",
       "Renda_per_Capita_2000                                  158.545000   \n",
       "Índice_de_Gini_2000                                      0.560000   \n",
       "Intensidade_da_indigência_2000                          49.530000   \n",
       "Intensidade_da_pobreza_2000                             46.320000   \n",
       "Índice_de_Desenvolvimento_Humano_Municipal_2000          0.713000   \n",
       "Taxa_bruta_de_freqüência_à_escola_2000                  78.360000   \n",
       "Taxa_de_alfabetização_2000                              81.980000   \n",
       "Média_de_anos_de_estudo_das_pessoas_de_25_anos_...       4.060000   \n",
       "População_de_25_anos_ou_mais_de_idade_1991            4096.000000   \n",
       "População_de_25_anos_ou_mais_de_idade_2000            4937.000000   \n",
       "População_de_65_anos_ou_mais_de_idade_1991             485.000000   \n",
       "População_de_65_anos_ou_mais_de_idade_2000             652.500000   \n",
       "População_total_1991                                  9781.500000   \n",
       "População_total_2000                                 10431.000000   \n",
       "População_urbana_2000                                 5316.000000   \n",
       "População_rural_2000                                  3683.000000   \n",
       "\n",
       "                                                              75%  \\\n",
       "Código                                              411573.500000   \n",
       "Área_km_                                              1042.925000   \n",
       "Densidade_demográfica_2000                              47.625000   \n",
       "Distância_à_capital_km_                                357.817869   \n",
       "Esperança_de_vida_ao_nascer_2000                        71.410000   \n",
       "Mortalidade_até_um_ano_de_idade_2000                    46.220000   \n",
       "Taxa_de_fecundidade_total_2000                           3.230000   \n",
       "Percentual_de_pessoas_de_25_anos_ou_mais_analfa...      39.852500   \n",
       "Renda_per_Capita_2000                                  232.175000   \n",
       "Índice_de_Gini_2000                                      0.600000   \n",
       "Intensidade_da_indigência_2000                          56.467500   \n",
       "Intensidade_da_pobreza_2000                             55.460000   \n",
       "Índice_de_Desenvolvimento_Humano_Municipal_2000          0.768000   \n",
       "Taxa_bruta_de_freqüência_à_escola_2000                  82.372500   \n",
       "Taxa_de_alfabetização_2000                              88.270000   \n",
       "Média_de_anos_de_estudo_das_pessoas_de_25_anos_...       4.910000   \n",
       "População_de_25_anos_ou_mais_de_idade_1991            8075.500000   \n",
       "População_de_25_anos_ou_mais_de_idade_2000            9985.750000   \n",
       "População_de_65_anos_ou_mais_de_idade_1991             985.000000   \n",
       "População_de_65_anos_ou_mais_de_idade_2000            1317.250000   \n",
       "População_total_1991                                 18969.250000   \n",
       "População_total_2000                                 21295.500000   \n",
       "População_urbana_2000                                13125.750000   \n",
       "População_rural_2000                                  7253.500000   \n",
       "\n",
       "                                                             max  \n",
       "Código                                              5.300100e+05  \n",
       "Área_km_                                            1.614459e+05  \n",
       "Densidade_demográfica_2000                          1.288140e+04  \n",
       "Distância_à_capital_km_                             1.474315e+03  \n",
       "Esperança_de_vida_ao_nascer_2000                    7.818000e+01  \n",
       "Mortalidade_até_um_ano_de_idade_2000                1.096700e+02  \n",
       "Taxa_de_fecundidade_total_2000                      7.790000e+00  \n",
       "Percentual_de_pessoas_de_25_anos_ou_mais_analfa...  7.026000e+01  \n",
       "Renda_per_Capita_2000                               9.546500e+02  \n",
       "Índice_de_Gini_2000                                 8.200000e-01  \n",
       "Intensidade_da_indigência_2000                      8.835000e+01  \n",
       "Intensidade_da_pobreza_2000                         8.303000e+01  \n",
       "Índice_de_Desenvolvimento_Humano_Municipal_2000     9.190000e-01  \n",
       "Taxa_bruta_de_freqüência_à_escola_2000              1.076900e+02  \n",
       "Taxa_de_alfabetização_2000                          9.909000e+01  \n",
       "Média_de_anos_de_estudo_das_pessoas_de_25_anos_...  9.650000e+00  \n",
       "População_de_25_anos_ou_mais_de_idade_1991          5.106165e+06  \n",
       "População_de_25_anos_ou_mais_de_idade_2000          5.825893e+06  \n",
       "População_de_65_anos_ou_mais_de_idade_1991          4.998800e+05  \n",
       "População_de_65_anos_ou_mais_de_idade_2000          6.707800e+05  \n",
       "População_total_1991                                9.649519e+06  \n",
       "População_total_2000                                1.043425e+07  \n",
       "População_urbana_2000                               9.813187e+06  \n",
       "População_rural_2000                                6.210650e+05  "
      ]
     },
     "execution_count": 57,
     "metadata": {},
     "output_type": "execute_result"
    }
   ],
   "source": [
    "## estatisticas descritivas do dataset\n",
    "print(dados_municipais.shape)\n",
    "dados_municipais.describe().transpose()"
   ]
  },
  {
   "cell_type": "code",
   "execution_count": 205,
   "id": "d1a76e55-275e-46b0-b41d-51835ece7448",
   "metadata": {},
   "outputs": [
    {
     "data": {
      "text/plain": [
       "11.75171857547089"
      ]
     },
     "execution_count": 205,
     "metadata": {},
     "output_type": "execute_result"
    }
   ],
   "source": [
    "1+3.3*np.log(dados_municipais.shape[1])"
   ]
  },
  {
   "cell_type": "code",
   "execution_count": 1,
   "id": "60ded95d-3e0c-48f9-889e-cb4461a118dd",
   "metadata": {},
   "outputs": [
    {
     "ename": "NameError",
     "evalue": "name 'dados_municipais' is not defined",
     "output_type": "error",
     "traceback": [
      "\u001b[0;31m---------------------------------------------------------------------------\u001b[0m",
      "\u001b[0;31mNameError\u001b[0m                                 Traceback (most recent call last)",
      "Input \u001b[0;32mIn [1]\u001b[0m, in \u001b[0;36m<cell line: 9>\u001b[0;34m()\u001b[0m\n\u001b[1;32m      5\u001b[0m \u001b[38;5;66;03m#fig, axs = plt.subplots(1, 2, figsize=(10, 10))\u001b[39;00m\n\u001b[1;32m      6\u001b[0m \u001b[38;5;66;03m#sns.histplot(data = dados_municipais, x = \"Área_km_\", color = \"skyblue\")\u001b[39;00m\n\u001b[1;32m      8\u001b[0m fig, axes \u001b[38;5;241m=\u001b[39m plt\u001b[38;5;241m.\u001b[39msubplots(\u001b[38;5;241m23\u001b[39m, figsize \u001b[38;5;241m=\u001b[39m (\u001b[38;5;241m15\u001b[39m,\u001b[38;5;241m100\u001b[39m))\n\u001b[0;32m----> 9\u001b[0m \u001b[38;5;28;01mfor\u001b[39;00m i, j \u001b[38;5;129;01min\u001b[39;00m \u001b[38;5;28mzip\u001b[39m(\u001b[43mdados_municipais\u001b[49m\u001b[38;5;241m.\u001b[39mcolumns[\u001b[38;5;241m3\u001b[39m:\u001b[38;5;241m26\u001b[39m], \u001b[38;5;28mrange\u001b[39m(\u001b[38;5;241m0\u001b[39m, \u001b[38;5;241m23\u001b[39m)):\n\u001b[1;32m     10\u001b[0m     dados_municipais\u001b[38;5;241m.\u001b[39mhist(\u001b[38;5;124m\"\u001b[39m\u001b[38;5;132;01m{0}\u001b[39;00m\u001b[38;5;124m\"\u001b[39m\u001b[38;5;241m.\u001b[39mformat(i), bins \u001b[38;5;241m=\u001b[39m \u001b[38;5;241m50\u001b[39m , ax\u001b[38;5;241m=\u001b[39maxes[j])\n",
      "\u001b[0;31mNameError\u001b[0m: name 'dados_municipais' is not defined"
     ]
    },
    {
     "data": {
      "image/png": "[encoded data removed]",
      "text/plain": [
       "<Figure size 1080x7200 with 23 Axes>"
      ]
     },
     "metadata": {
      "needs_background": "light"
     },
     "output_type": "display_data"
    }
   ],
   "source": [
    "import seaborn as sns\n",
    "import matplotlib.pyplot as plt\n",
    "# set a grey background (use sns.set_theme() if seaborn version 0.11.0 or above) \n",
    "sns.set(style=\"darkgrid\")\n",
    "#fig, axs = plt.subplots(1, 2, figsize=(10, 10))\n",
    "#sns.histplot(data = dados_municipais, x = \"Área_km_\", color = \"skyblue\")\n",
    "\n",
    "fig, axes = plt.subplots(23, figsize = (15,100))\n",
    "for i, j in zip(dados_municipais.columns[3:26], range(0, 23)):\n",
    "    dados_municipais.hist(\"{0}\".format(i), bins = 50 , ax=axes[j])"
   ]
  },
  {
   "cell_type": "code",
   "execution_count": 93,
   "id": "297a1558-e441-4582-92a8-def5cd5287f2",
   "metadata": {},
   "outputs": [
    {
     "data": {
      "text/plain": [
       "<AxesSubplot:>"
      ]
     },
     "execution_count": 93,
     "metadata": {},
     "output_type": "execute_result"
    }
   ],
   "source": [
    "axes[4,4]"
   ]
  },
  {
   "cell_type": "code",
   "execution_count": 191,
   "id": "188b9520-45da-4dca-8607-05b961c72108",
   "metadata": {},
   "outputs": [
    {
     "data": {
      "text/plain": [
       "(5360, 22)"
      ]
     },
     "execution_count": 191,
     "metadata": {},
     "output_type": "execute_result"
    }
   ],
   "source": [
    "columns = [ \n",
    "\t   'Densidade_demográfica_2000', 'Distância_à_capital_km_',\n",
    "       'Esperança_de_vida_ao_nascer_2000',\n",
    "       'Mortalidade_até_um_ano_de_idade_2000',\n",
    "       'Taxa_de_fecundidade_total_2000',\n",
    "       'Percentual_de_pessoas_de_25_anos_ou_mais_analfabetas_2000',\n",
    "       'Renda_per_Capita_2000', 'Índice_de_Gini_2000',\n",
    "       'Intensidade_da_indigência_2000', 'Intensidade_da_pobreza_2000',\n",
    "       'Índice_de_Desenvolvimento_Humano_Municipal_2000',\n",
    "       'Taxa_bruta_de_freqüência_à_escola_2000', 'Taxa_de_alfabetização_2000',\n",
    "       'Média_de_anos_de_estudo_das_pessoas_de_25_anos_ou_mais_de_idade_2000',\n",
    "       'População_de_25_anos_ou_mais_de_idade_1991',\n",
    "       'População_de_25_anos_ou_mais_de_idade_2000',\n",
    "       'População_de_65_anos_ou_mais_de_idade_1991',\n",
    "       'População_de_65_anos_ou_mais_de_idade_2000', 'População_total_1991',\n",
    "       'População_total_2000', 'População_urbana_2000',\n",
    "       'População_rural_2000'\n",
    "    ]\n",
    "\n",
    "dados_municipais_numericFeatures = dados_municipais[columns].values\n",
    "\n",
    "dados_municipais_numericFeatures.shape"
   ]
  },
  {
   "cell_type": "code",
   "execution_count": 223,
   "id": "55af04e7-daec-4ec2-8ad5-d90ba0420c5a",
   "metadata": {},
   "outputs": [],
   "source": [
    "mimaxscaler = sk.preprocessing.MinMaxScaler()"
   ]
  },
  {
   "cell_type": "code",
   "execution_count": 240,
   "id": "fe5fc906-bc1a-4f28-a7e7-d436164661a3",
   "metadata": {},
   "outputs": [],
   "source": [
    "dd = pd.DataFrame(dados_municipais['Taxa_de_alfabetização_2000'])\n",
    "scale = sk.preprocessing.MinMaxScaler()\n",
    "dd = scale.fit_transform(dd)"
   ]
  },
  {
   "cell_type": "code",
   "execution_count": 295,
   "id": "2cf1227e-8daa-4565-9b02-7c83503c8683",
   "metadata": {},
   "outputs": [
    {
     "data": {
      "text/plain": [
       "cn    0\n",
       "dtype: int64"
      ]
     },
     "execution_count": 295,
     "metadata": {},
     "output_type": "execute_result"
    }
   ],
   "source": [
    "#pd.DataFrame(dd).hist(bins=42)\n",
    "dbscan = sk.cluster.DBSCAN()\n",
    "dbscanmodel = dbscan.fit(dd)\n",
    "ddc = dbscanmodel.fit_predict(dd)\n",
    "ddc = pd.DataFrame({\"cn\":ddc})\n",
    "ddc.min()"
   ]
  },
  {
   "cell_type": "code",
   "execution_count": 302,
   "id": "08633e73-21fc-467d-8d4f-0c13ff695f0f",
   "metadata": {},
   "outputs": [
    {
     "data": {
      "text/plain": [
       "array([0, 0, 0, ..., 2, 0, 2], dtype=int32)"
      ]
     },
     "execution_count": 302,
     "metadata": {},
     "output_type": "execute_result"
    }
   ],
   "source": [
    "knn = sk.cluster.KMeans(n_clusters = 3)\n",
    "knn = knn.fit(dd)\n",
    "knn.predict(dd)"
   ]
  },
  {
   "cell_type": "markdown",
   "id": "afb22693-dc77-4369-afbf-d3706d08891c",
   "metadata": {},
   "source": [
    "\n",
    "### PCA"
   ]
  },
  {
   "cell_type": "code",
   "execution_count": 85,
   "id": "246dda32-913a-41ee-8c1e-15ca0cda36df",
   "metadata": {},
   "outputs": [],
   "source": [
    "scale_transformer = sk.preprocessing.StandardScaler()\n",
    "dados_scaled = scale_transformer.fit_transform(dados_municipais_numericFeatures)"
   ]
  },
  {
   "cell_type": "code",
   "execution_count": null,
   "id": "485b395c-49c2-45d9-99cc-f79e8129c048",
   "metadata": {},
   "outputs": [],
   "source": [
    "pca_model = sk.decomposition.PCA(n_components = 'mle')\n",
    "\n",
    "pca_decomposed_data = pca_model.fit_transform(dados_scaled)\n",
    "pca_decomposed_data.shape\n",
    "#plot_PCA = plt.scatter(pca_decomposed_data[:,0], pca_decomposed_data[:,1])\n",
    "#plot_PCA = plt.scatter(pca_decomposed_data[:,0], pca_decomposed_data[:,2])\n",
    "#plot_PCA = plt.scatter(pca_decomposed_data[:,1], pca_decomposed_data[:,8])\n",
    "#plot_PCA = plt.scatter(pca_decomposed_data[:,2], pca_decomposed_data[:,3])\n",
    "#plot_PCA = plt.scatter(pca_decomposed_data[:,5], pca_decomposed_data[:,6])\n",
    "#plot_PCA = plt.scatter(pca_decomposed_data[:,0], pca_decomposed_data[:,9])\n",
    "fig, axs = plt.subplots(18)\n",
    "axs[i] = plt.scatter(pca_decomposed_data[:,i], pca_decomposed_data[:,i+1])"
   ]
  },
  {
   "cell_type": "code",
   "execution_count": 60,
   "id": "5afefdca-9ab5-4a6b-a6a4-bc130f7ac793",
   "metadata": {},
   "outputs": [
    {
     "data": {
      "text/plain": [
       "array([1.17542002e+11, 2.03176458e+08, 9.58277792e+07, 1.34690993e+07,\n",
       "       1.97462876e+06, 6.79914191e+05, 1.96389678e+05, 2.58934204e+04,\n",
       "       1.54435643e+04, 7.45736207e+03])"
      ]
     },
     "execution_count": 60,
     "metadata": {},
     "output_type": "execute_result"
    }
   ],
   "source": [
    "pca_model_fit.explained_variance_"
   ]
  },
  {
   "cell_type": "code",
   "execution_count": null,
   "id": "4e26cff2-9ce6-4618-b49f-8f7f9ae60f29",
   "metadata": {},
   "outputs": [],
   "source": [
    "dbscan_cluster = sk.cluster.DBSCAN()\n",
    "cluster = dbscan_cluster.fit_predict(pca_decomposed_data)\n",
    "dd = pd.DataFrame({\"cname\" : cluster})\n",
    "\n",
    "    \n",
    "dd.aggregate(count(cname))"
   ]
  },
  {
   "cell_type": "code",
   "execution_count": 79,
   "id": "f3bc096a-ece9-4879-a82d-54af853ae4da",
   "metadata": {},
   "outputs": [
    {
     "data": {
      "text/plain": [
       "array([[-4.41073620e+04, -5.21597641e+02,  3.84374843e+03, ...,\n",
       "        -2.30157724e+02,  7.73251265e+01,  2.98841681e+01],\n",
       "       [-4.09054945e+04,  8.93973945e+02,  3.53027452e+03, ...,\n",
       "         1.16231375e+02, -5.38590210e+01,  2.39284012e+01],\n",
       "       [-3.40074150e+04,  4.16921144e+02,  1.51590504e+03, ...,\n",
       "        -1.73478124e+02,  4.39886836e+01, -8.31048963e+00],\n",
       "       ...,\n",
       "       [ 7.19654903e+04,  3.93945367e+03, -1.84745508e+04, ...,\n",
       "        -1.34290007e+02,  1.21612395e+02,  2.12569399e+01],\n",
       "       [ 6.59840963e+04,  5.02750814e+03, -1.47109635e+02, ...,\n",
       "        -1.56770490e+02,  2.25918203e+01,  9.74478443e+01],\n",
       "       [-1.95051220e+04,  1.01557440e+03, -2.07286211e+02, ...,\n",
       "        -5.36581036e+01,  6.34280331e+01, -4.02040150e+01]])"
      ]
     },
     "execution_count": 79,
     "metadata": {},
     "output_type": "execute_result"
    }
   ],
   "source": [
    "pca_decomposed_data"
   ]
  },
  {
   "cell_type": "code",
   "execution_count": 142,
   "id": "f2b438e9-dc44-4e3a-83c0-3a636b2e69b8",
   "metadata": {},
   "outputs": [],
   "source": [
    "dbscan_cluster = sk.cluster.DBSCAN()\n",
    "dbscan_clusters = dbscan_cluster.fit_predict(dados_scaled)"
   ]
  },
  {
   "cell_type": "code",
   "execution_count": 159,
   "id": "454531f9-becd-4415-b6ee-609a418f917b",
   "metadata": {},
   "outputs": [
    {
     "data": {
      "text/plain": [
       "-5360"
      ]
     },
     "execution_count": 159,
     "metadata": {},
     "output_type": "execute_result"
    }
   ],
   "source": [
    "dbscan_clusters.sum()\n",
    "\n"
   ]
  },
  {
   "cell_type": "code",
   "execution_count": null,
   "id": "8f482221-6ee8-4740-9a88-bcfdc26ee1d9",
   "metadata": {},
   "outputs": [],
   "source": []
  }
 ],
 "metadata": {
  "kernelspec": {
   "display_name": "Python 3 (ipykernel)",
   "language": "python",
   "name": "python3"
  },
  "language_info": {
   "codemirror_mode": {
    "name": "ipython",
    "version": 3
   },
   "file_extension": ".py",
   "mimetype": "text/x-python",
   "name": "python",
   "nbconvert_exporter": "python",
   "pygments_lexer": "ipython3",
   "version": "3.8.10"
  }
 },
 "nbformat": 4,
 "nbformat_minor": 5
}
